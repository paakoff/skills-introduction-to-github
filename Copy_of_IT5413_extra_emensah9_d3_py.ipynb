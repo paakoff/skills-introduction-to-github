{
  "nbformat": 4,
  "nbformat_minor": 0,
  "metadata": {
    "colab": {
      "private_outputs": true,
      "provenance": [],
      "authorship_tag": "ABX9TyOPLBYzzHiNqHFQZ6IUbixo",
      "include_colab_link": true
    },
    "kernelspec": {
      "name": "python3",
      "display_name": "Python 3"
    },
    "language_info": {
      "name": "python"
    }
  },
  "cells": [
    {
      "cell_type": "markdown",
      "metadata": {
        "id": "view-in-github",
        "colab_type": "text"
      },
      "source": [
        "<a href=\"https://colab.research.google.com/github/paakoff/skills-introduction-to-github/blob/main/Copy_of_IT5413_extra_emensah9_d3_py.ipynb\" target=\"_parent\"><img src=\"https://colab.research.google.com/assets/colab-badge.svg\" alt=\"Open In Colab\"/></a>"
      ]
    },
    {
      "cell_type": "code",
      "execution_count": null,
      "metadata": {
        "id": "yaEaf0tlA10h"
      },
      "outputs": [],
      "source": [
        "# List of months and expenses\n",
        "\n",
        "# months = (January, February, March, April, May, June, July, August, September, October, November, December)\n",
        "\n",
        "Expenses = (1450.50, 1298.75, 1523.00, 2100.20, 1786.80, 1985.90, 2500.00, 1600.00, 1700.25, 1400.60, 1320.00, 1805.00 )\n",
        "\n",
        "# Calculate and dispaly the total annual expenses\n",
        "total_expenses = sum(Expenses)\n",
        "print(\"Total Annual Expenses:\", total_expenses)"
      ]
    },
    {
      "cell_type": "markdown",
      "source": [],
      "metadata": {
        "id": "Gg-Ezne3_Pod"
      }
    },
    {
      "cell_type": "code",
      "source": [],
      "metadata": {
        "id": "j0UDSoVq8vWA"
      },
      "execution_count": null,
      "outputs": []
    },
    {
      "cell_type": "code",
      "source": [
        "# Calculate the average monthly expenses\n",
        "months = [\"January\", \"February\", \"March\", \"April\", \"May\", \"June\", \"July\", \"August\", \"September\", \"October\", \"November\", \"December\"]\n",
        "\n",
        "Expenses = (1450.50, 1298.75, 1523.00, 2100.20, 1786.80, 1985.90, 2500.00, 1600.00, 1700.25, 1400.60, 1320.00, 1805.00 )\n",
        "average_expenses = total_expenses / len(Expenses)\n",
        "\n",
        "average_months = [month for month, expense in zip(months, Expenses) if expense > average_expenses]\n",
        "print(f\"Months with expenses above the average:\",average_months)\n",
        "print(f\"Average Monthly Expenses:\", average_expenses)\n",
        "for i in range(len(months)):\n",
        "    print(f\"{months[i]}: ${Expenses[i]}\")\n"
      ],
      "metadata": {
        "id": "5k2Mfd0nXSTO"
      },
      "execution_count": null,
      "outputs": []
    },
    {
      "cell_type": "code",
      "source": [
        "# Calculate the highest and lowest monthly expenses\n",
        "months = [\"January\", \"February\", \"March\", \"April\", \"May\", \"June\", \"July\", \"August\", \"September\", \"October\", \"November\", \"December\"]\n",
        "\n",
        "Expenses = (1450.50, 1298.75, 1523.00, 2100.20, 1786.80, 1985.90, 2500.00, 1600.00, 1700.25, 1400.60, 1320.00, 1805.00 )\n",
        "months_expenses = list(zip(months, Expenses))\n",
        "highest_expense = max(months_expenses, key=lambda x: x[1])\n",
        "lowest_expense = min(months_expenses, key=lambda x: x[1])\n",
        "print(\"Highest Monthly Expense:\", highest_expense)\n",
        "print(\"Lowest Monthly Expense:\", lowest_expense)"
      ],
      "metadata": {
        "id": "USWJgAHYXh7Q"
      },
      "execution_count": null,
      "outputs": []
    },
    {
      "cell_type": "code",
      "source": [
        "# Dispaly a if any month's expenses exceeds $2000\n",
        "for month, expense in enumerate(Expenses, start=1):\n",
        "    if expense > 2000:\n",
        "        print(f\"Expense of ${expense} exceeds $2000 in month {month}.\")"
      ],
      "metadata": {
        "id": "-g_u4qtlXzWZ"
      },
      "execution_count": null,
      "outputs": []
    }
  ]
}