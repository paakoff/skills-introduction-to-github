{
  "nbformat": 4,
  "nbformat_minor": 0,
  "metadata": {
    "colab": {
      "private_outputs": true,
      "provenance": [],
      "authorship_tag": "ABX9TyNjjQ3xywRcfyW9E6cRCb41",
      "include_colab_link": true
    },
    "kernelspec": {
      "name": "python3",
      "display_name": "Python 3"
    },
    "language_info": {
      "name": "python"
    }
  },
  "cells": [
    {
      "cell_type": "markdown",
      "metadata": {
        "id": "view-in-github",
        "colab_type": "text"
      },
      "source": [
        "<a href=\"https://colab.research.google.com/github/paakoff/skills-introduction-to-github/blob/main/IT7103_Spring_2025.ipynb\" target=\"_parent\"><img src=\"https://colab.research.google.com/assets/colab-badge.svg\" alt=\"Open In Colab\"/></a>"
      ]
    },
    {
      "cell_type": "code",
      "source": [
        "# Loading Data from employee_rating\n",
        "\n",
        "import pandas as pd\n",
        "import numpy as np\n",
        "import matplotlib.pyplot as plt\n",
        "\n",
        "\n",
        "from google.colab import drive\n",
        "drive.mount('/content/drive')\n",
        "\n",
        "import pandas as pd\n",
        "data = pd.read_csv('/content/employee_rating.csv')\n",
        "data"
      ],
      "metadata": {
        "id": "peA7-yVPquLB"
      },
      "execution_count": null,
      "outputs": []
    },
    {
      "cell_type": "code",
      "source": [
        "import pandas as pd\n",
        "import numpy as np\n",
        "data = pd.read_csv('/content/employee_rating.csv')\n",
        "\n",
        "# Environment Satisfaction_map = {'Very High':1, 'High':2, 'Meduim':3}\n",
        "\n",
        "# Performance Rating_map{'Outstanding':1, 'Excellent':2}\n",
        "\n",
        "# Define the mapping\n",
        "\n",
        "# Apply the mapping to the 'Environment Satisfaction' column\n",
        "\n",
        "# Access the 'Environment_Satisfaction' column using single square brackets and the column name as a string.\n",
        "\n",
        "data['Environment_Satisfaction'] = data['EnvironmentSatisfaction'].map({'Very High': 1, 'High': 2, 'Medium': 3, 'Low': 4})\n"
      ],
      "metadata": {
        "id": "f8wILKCv_3xD"
      },
      "execution_count": null,
      "outputs": []
    },
    {
      "cell_type": "code",
      "source": [],
      "metadata": {
        "id": "YdLw82Y0Q4wT"
      },
      "execution_count": null,
      "outputs": []
    },
    {
      "cell_type": "code",
      "source": [
        "# Loading Data for employee_general"
      ],
      "metadata": {
        "id": "-Fft6D1BwoPR"
      },
      "execution_count": null,
      "outputs": []
    },
    {
      "cell_type": "code",
      "source": [
        "import pandas as pd\n",
        "\n",
        "data1 = pd.read_csv('/content/employee_general.csv')\n",
        "data1\n"
      ],
      "metadata": {
        "id": "O5FGF62XvhTU"
      },
      "execution_count": null,
      "outputs": []
    },
    {
      "cell_type": "code",
      "source": [
        "# Fixing issues with files without Column"
      ],
      "metadata": {
        "id": "sA8YwalUyPwf"
      },
      "execution_count": null,
      "outputs": []
    },
    {
      "cell_type": "code",
      "source": [
        "data3 = pd.read_csv('/content/employee_general.csv', sep=\"|\")\n",
        "data3"
      ],
      "metadata": {
        "id": "x6_25YSoxmlr"
      },
      "execution_count": null,
      "outputs": []
    },
    {
      "cell_type": "code",
      "source": [],
      "metadata": {
        "id": "U4_pCu76zEDn"
      },
      "execution_count": null,
      "outputs": []
    },
    {
      "cell_type": "code",
      "source": [
        "# Datatypes like numeric, binary,ordinal and nomnal\n",
        "# Numeric columns can read as either float of int\n",
        "\n",
        "# dat.dtypes\n",
        "data.head(n = 8)"
      ],
      "metadata": {
        "id": "jLWTE2-jyjFQ"
      },
      "execution_count": null,
      "outputs": []
    },
    {
      "cell_type": "code",
      "source": [
        "\n"
      ],
      "metadata": {
        "id": "p_yqg8L81qU5"
      },
      "execution_count": null,
      "outputs": []
    },
    {
      "cell_type": "code",
      "source": [
        "# Generate a column named log_Income  as Log(MonthlyIncome)\n",
        "import pandas as pd\n",
        "import numpy as np\n",
        "import matplotlib.pyplot as plt\n",
        "\n",
        "\n",
        "from google.colab import drive\n",
        "drive.mount('/content/drive')\n",
        "\n",
        "import pandas as pd\n",
        "data = pd.read_csv('/content/employee_rating.csv')\n",
        "data = data.assign(log_Income = np.log(data['MonthlyIncome']))\n",
        "data\n",
        "\n"
      ],
      "metadata": {
        "id": "ZUe0dqCt1qL4"
      },
      "execution_count": null,
      "outputs": []
    },
    {
      "cell_type": "code",
      "source": [
        "data['Log_Income'] = np.log(data['MonthlyIncome'])\n",
        "data['Log_Income']"
      ],
      "metadata": {
        "id": "s_Zm_gVn4kgO"
      },
      "execution_count": null,
      "outputs": []
    },
    {
      "cell_type": "code",
      "source": [],
      "metadata": {
        "id": "e9DpKGyD2vKs"
      },
      "execution_count": null,
      "outputs": []
    },
    {
      "cell_type": "code",
      "source": [],
      "metadata": {
        "id": "JyDSDGza2vGA"
      },
      "execution_count": null,
      "outputs": []
    },
    {
      "cell_type": "code",
      "source": [
        "# Converting Class columns to meaningful numbers\n",
        "\n",
        "import pandas as pd\n",
        "import numpy as np\n",
        "import matplotlib.pyplot as plt\n",
        "\n",
        "\n",
        "from google.colab import drive\n",
        "drive.mount('/content/drive')\n",
        "\n",
        "import pandas as pd\n",
        "data = pd.read_csv('/content/employee_rating.csv')\n",
        "data\n",
        "\n",
        "\n"
      ],
      "metadata": {
        "id": "VlzKZSmW1p9o"
      },
      "execution_count": null,
      "outputs": []
    },
    {
      "cell_type": "code",
      "source": [
        "data[['EmployeeNumber', 'YearsAtCompany', 'YearsInCurrentRole']]"
      ],
      "metadata": {
        "id": "GYGNIthJ1ptp"
      },
      "execution_count": null,
      "outputs": []
    },
    {
      "cell_type": "code",
      "source": [],
      "metadata": {
        "id": "FUf7fGIj8MdR"
      },
      "execution_count": null,
      "outputs": []
    },
    {
      "cell_type": "code",
      "source": [
        "# User merging the two datasets\n",
        "\n",
        "data1 = pd.read_csv('/content/employee_general.csv')\n",
        "data1.head()"
      ],
      "metadata": {
        "id": "5klaADkQ8MPv"
      },
      "execution_count": null,
      "outputs": []
    },
    {
      "cell_type": "code",
      "source": [
        "data2 = pd.read_csv('/content/employee_rating.csv')\n",
        "data2.head()"
      ],
      "metadata": {
        "id": "PxGNM9v49Qe_"
      },
      "execution_count": null,
      "outputs": []
    },
    {
      "cell_type": "code",
      "source": [
        "import sklearn as sk"
      ],
      "metadata": {
        "id": "Ai4Uudfo9rDB"
      },
      "execution_count": null,
      "outputs": []
    },
    {
      "cell_type": "code",
      "source": [
        "data.merge(data2, on='EmployeeNumber')"
      ],
      "metadata": {
        "id": "BVpZTZAt9evy"
      },
      "execution_count": null,
      "outputs": []
    }
  ]
}